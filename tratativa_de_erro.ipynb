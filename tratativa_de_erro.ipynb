{
 "cells": [
  {
   "cell_type": "code",
   "execution_count": 1,
   "metadata": {},
   "outputs": [
    {
     "name": "stdout",
     "output_type": "stream",
     "text": [
      "Hello world!\n"
     ]
    }
   ],
   "source": [
    "print('Hello world!')"
   ]
  },
  {
   "cell_type": "code",
   "execution_count": 5,
   "metadata": {},
   "outputs": [],
   "source": [
    "nome = input('Digite seu nome: ')"
   ]
  },
  {
   "cell_type": "code",
   "execution_count": 12,
   "metadata": {},
   "outputs": [
    {
     "name": "stdout",
     "output_type": "stream",
     "text": [
      "Você não digitou um número inteiro\n",
      "invalid literal for int() with base 10: 'marcelo'\n",
      "Executando o finally!\n"
     ]
    }
   ],
   "source": [
    "#try faz um teste/except é executado se o resultado do try for invalido\n",
    "try:\n",
    "    numero_inteiro = int(input('Digite um número inteiro: '))\n",
    "except Exception as e:\n",
    "    print('Você não digitou um número inteiro')\n",
    "    print(e)\n",
    "else:\n",
    "    print(numero_inteiro)\n",
    "finally:\n",
    "    print('Executando o finally!')"
   ]
  }
 ],
 "metadata": {
  "kernelspec": {
   "display_name": "venv",
   "language": "python",
   "name": "python3"
  },
  "language_info": {
   "codemirror_mode": {
    "name": "ipython",
    "version": 3
   },
   "file_extension": ".py",
   "mimetype": "text/x-python",
   "name": "python",
   "nbconvert_exporter": "python",
   "pygments_lexer": "ipython3",
   "version": "3.10.11"
  }
 },
 "nbformat": 4,
 "nbformat_minor": 2
}
